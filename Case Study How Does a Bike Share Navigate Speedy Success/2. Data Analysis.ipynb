{
 "cells": [
  {
   "cell_type": "markdown",
   "id": "18edff3b-75b7-4c6e-a60a-1df6ecde843c",
   "metadata": {
    "tags": []
   },
   "source": [
    "# Loading packages"
   ]
  },
  {
   "cell_type": "code",
   "execution_count": 29,
   "id": "8dec6a13-6ab1-44b2-951e-9fb20121b404",
   "metadata": {},
   "outputs": [],
   "source": [
    "library(tidyverse)\n",
    "library(ggplot2)\n",
    "library(skimr)\n",
    "library(janitor)\n",
    "options(repr.plot.width=8, repr.plot.height=6)"
   ]
  },
  {
   "cell_type": "markdown",
   "id": "a6a9b930-f368-4da6-8137-8d3c60a98ac2",
   "metadata": {
    "tags": []
   },
   "source": [
    "# Importing data"
   ]
  },
  {
   "cell_type": "code",
   "execution_count": 2,
   "id": "29a94924-98f3-4d96-98ea-c207f4a8aa69",
   "metadata": {
    "tags": []
   },
   "outputs": [
    {
     "name": "stderr",
     "output_type": "stream",
     "text": [
      "\u001b[1mRows: \u001b[22m\u001b[34m769204\u001b[39m \u001b[1mColumns: \u001b[22m\u001b[34m12\u001b[39m\n",
      "\u001b[36m──\u001b[39m \u001b[1mColumn specification\u001b[22m \u001b[36m────────────────────────────────────────────────────────────────────────────────────────────────\u001b[39m\n",
      "\u001b[1mDelimiter:\u001b[22m \",\"\n",
      "\u001b[31mchr\u001b[39m  (8): ride_id, rideable_type, start_station_name, start_station_id, end_...\n",
      "\u001b[32mdbl\u001b[39m  (2): ride_length_second, day_of_week\n",
      "\u001b[34mdttm\u001b[39m (2): started_at, ended_at\n",
      "\n",
      "\u001b[36mℹ\u001b[39m Use `spec()` to retrieve the full column specification for this data.\n",
      "\u001b[36mℹ\u001b[39m Specify the column types or set `show_col_types = FALSE` to quiet this message.\n"
     ]
    }
   ],
   "source": [
    "trip_data <- read_csv(file = \"D:\\\\Hell\\\\dataset case study\\\\trip_data.csv\")"
   ]
  },
  {
   "cell_type": "code",
   "execution_count": 3,
   "id": "d4288b86-e4a6-4fb4-9aa9-07c5a323acda",
   "metadata": {},
   "outputs": [],
   "source": [
    "trip_data <- tibble(trip_data)"
   ]
  },
  {
   "cell_type": "code",
   "execution_count": 4,
   "id": "8af59b3a-b583-4a85-a9ac-f8325de75d65",
   "metadata": {},
   "outputs": [
    {
     "name": "stdout",
     "output_type": "stream",
     "text": [
      "── Data Summary ────────────────────────\n",
      "                           Values   \n",
      "Name                       trip_data\n",
      "Number of rows             769204   \n",
      "Number of columns          12       \n",
      "_______________________             \n",
      "Column type frequency:              \n",
      "  character                8        \n",
      "  numeric                  2        \n",
      "  POSIXct                  2        \n",
      "________________________            \n",
      "Group variables            None     \n",
      "\n",
      "── Variable type: character ────────────────────────────────────────────────────\n",
      "  skim_variable      n_missing complete_rate min max empty n_unique whitespace\n",
      "\u001b[90m1\u001b[39m ride_id                    0             1  16  16     0   \u001b[4m7\u001b[24m\u001b[4m6\u001b[24m\u001b[4m9\u001b[24m204          0\n",
      "\u001b[90m2\u001b[39m rideable_type              0             1  11  13     0        3          0\n",
      "\u001b[90m3\u001b[39m start_station_name         0             1   7  53     0     \u001b[4m1\u001b[24m158          0\n",
      "\u001b[90m4\u001b[39m start_station_id           0             1   3  35     0     \u001b[4m1\u001b[24m063          0\n",
      "\u001b[90m5\u001b[39m end_station_name           0             1  10  53     0     \u001b[4m1\u001b[24m181          0\n",
      "\u001b[90m6\u001b[39m end_station_id             0             1   3  36     0     \u001b[4m1\u001b[24m079          0\n",
      "\u001b[90m7\u001b[39m member_casual              0             1   6   6     0        2          0\n",
      "\u001b[90m8\u001b[39m track                      0             1  24 110     0    \u001b[4m8\u001b[24m\u001b[4m8\u001b[24m819          0\n",
      "\n",
      "── Variable type: numeric ──────────────────────────────────────────────────────\n",
      "  skim_variable      n_missing complete_rate    mean       sd    p0 p25 p50  p75\n",
      "\u001b[90m1\u001b[39m ride_length_second         0             1 \u001b[4m1\u001b[24m361.   \u001b[4m1\u001b[24m\u001b[4m2\u001b[24m913.   -\u001b[31m\u001b[4m8\u001b[24m24\u001b[39m\u001b[31m5\u001b[39m 405 713 \u001b[4m1\u001b[24m257\n",
      "\u001b[90m2\u001b[39m day_of_week                0             1    4.17     1.92     1   3   4    6\n",
      "     p100\n",
      "\u001b[90m1\u001b[39m 2\u001b[4m1\u001b[24m\u001b[4m4\u001b[24m\u001b[4m9\u001b[24m238\n",
      "\u001b[90m2\u001b[39m       7\n",
      "\n",
      "── Variable type: POSIXct ──────────────────────────────────────────────────────\n",
      "  skim_variable n_missing complete_rate min                 max                \n",
      "\u001b[90m1\u001b[39m started_at            0             1 2022-06-01 \u001b[90m00:00:04\u001b[39m 2022-06-30 \u001b[90m23:59:58\u001b[39m\n",
      "\u001b[90m2\u001b[39m ended_at              0             1 2022-06-01 \u001b[90m00:02:38\u001b[39m 2022-07-13 \u001b[90m04:21:06\u001b[39m\n",
      "  median              n_unique\n",
      "\u001b[90m1\u001b[39m 2022-06-17 \u001b[90m09:35:34\u001b[39m   \u001b[4m6\u001b[24m\u001b[4m1\u001b[24m\u001b[4m7\u001b[24m356\n",
      "\u001b[90m2\u001b[39m 2022-06-17 \u001b[90m09:54:49\u001b[39m   \u001b[4m6\u001b[24m\u001b[4m2\u001b[24m\u001b[4m0\u001b[24m434\n"
     ]
    },
    {
     "name": "stderr",
     "output_type": "stream",
     "text": [
      "Warning message in is.null(text_repr) || nchar(text_repr) == 0L:\n",
      "\"'length(x) = 3 > 1' in coercion to 'logical(1)'\"\n"
     ]
    },
    {
     "data": {
      "text/html": [
       "<table class=\"dataframe\">\n",
       "<caption>A skim_df: 12 × 20</caption>\n",
       "<thead>\n",
       "\t<tr><th></th><th scope=col>skim_type</th><th scope=col>skim_variable</th><th scope=col>n_missing</th><th scope=col>complete_rate</th><th scope=col>character.min</th><th scope=col>character.max</th><th scope=col>character.empty</th><th scope=col>character.n_unique</th><th scope=col>character.whitespace</th><th scope=col>numeric.mean</th><th scope=col>numeric.sd</th><th scope=col>numeric.p0</th><th scope=col>numeric.p25</th><th scope=col>numeric.p50</th><th scope=col>numeric.p75</th><th scope=col>numeric.p100</th><th scope=col>POSIXct.min</th><th scope=col>POSIXct.max</th><th scope=col>POSIXct.median</th><th scope=col>POSIXct.n_unique</th></tr>\n",
       "\t<tr><th></th><th scope=col>&lt;chr&gt;</th><th scope=col>&lt;chr&gt;</th><th scope=col>&lt;int&gt;</th><th scope=col>&lt;dbl&gt;</th><th scope=col>&lt;int&gt;</th><th scope=col>&lt;int&gt;</th><th scope=col>&lt;int&gt;</th><th scope=col>&lt;int&gt;</th><th scope=col>&lt;int&gt;</th><th scope=col>&lt;dbl&gt;</th><th scope=col>&lt;dbl&gt;</th><th scope=col>&lt;dbl&gt;</th><th scope=col>&lt;dbl&gt;</th><th scope=col>&lt;dbl&gt;</th><th scope=col>&lt;dbl&gt;</th><th scope=col>&lt;dbl&gt;</th><th scope=col>&lt;dttm&gt;</th><th scope=col>&lt;dttm&gt;</th><th scope=col>&lt;dttm&gt;</th><th scope=col>&lt;int&gt;</th></tr>\n",
       "</thead>\n",
       "<tbody>\n",
       "\t<tr><th scope=row>1</th><td>character</td><td>ride_id           </td><td>0</td><td>1</td><td>16</td><td> 16</td><td> 0</td><td>769204</td><td> 0</td><td>         NA</td><td>          NA</td><td>   NA</td><td> NA</td><td> NA</td><td>  NA</td><td>     NA</td><td>NA</td><td>NA</td><td>NA</td><td>    NA</td></tr>\n",
       "\t<tr><th scope=row>2</th><td>character</td><td>rideable_type     </td><td>0</td><td>1</td><td>11</td><td> 13</td><td> 0</td><td>     3</td><td> 0</td><td>         NA</td><td>          NA</td><td>   NA</td><td> NA</td><td> NA</td><td>  NA</td><td>     NA</td><td>NA</td><td>NA</td><td>NA</td><td>    NA</td></tr>\n",
       "\t<tr><th scope=row>3</th><td>character</td><td>start_station_name</td><td>0</td><td>1</td><td> 7</td><td> 53</td><td> 0</td><td>  1158</td><td> 0</td><td>         NA</td><td>          NA</td><td>   NA</td><td> NA</td><td> NA</td><td>  NA</td><td>     NA</td><td>NA</td><td>NA</td><td>NA</td><td>    NA</td></tr>\n",
       "\t<tr><th scope=row>4</th><td>character</td><td>start_station_id  </td><td>0</td><td>1</td><td> 3</td><td> 35</td><td> 0</td><td>  1063</td><td> 0</td><td>         NA</td><td>          NA</td><td>   NA</td><td> NA</td><td> NA</td><td>  NA</td><td>     NA</td><td>NA</td><td>NA</td><td>NA</td><td>    NA</td></tr>\n",
       "\t<tr><th scope=row>5</th><td>character</td><td>end_station_name  </td><td>0</td><td>1</td><td>10</td><td> 53</td><td> 0</td><td>  1181</td><td> 0</td><td>         NA</td><td>          NA</td><td>   NA</td><td> NA</td><td> NA</td><td>  NA</td><td>     NA</td><td>NA</td><td>NA</td><td>NA</td><td>    NA</td></tr>\n",
       "\t<tr><th scope=row>6</th><td>character</td><td>end_station_id    </td><td>0</td><td>1</td><td> 3</td><td> 36</td><td> 0</td><td>  1079</td><td> 0</td><td>         NA</td><td>          NA</td><td>   NA</td><td> NA</td><td> NA</td><td>  NA</td><td>     NA</td><td>NA</td><td>NA</td><td>NA</td><td>    NA</td></tr>\n",
       "\t<tr><th scope=row>7</th><td>character</td><td>member_casual     </td><td>0</td><td>1</td><td> 6</td><td>  6</td><td> 0</td><td>     2</td><td> 0</td><td>         NA</td><td>          NA</td><td>   NA</td><td> NA</td><td> NA</td><td>  NA</td><td>     NA</td><td>NA</td><td>NA</td><td>NA</td><td>    NA</td></tr>\n",
       "\t<tr><th scope=row>8</th><td>character</td><td>track             </td><td>0</td><td>1</td><td>24</td><td>110</td><td> 0</td><td> 88819</td><td> 0</td><td>         NA</td><td>          NA</td><td>   NA</td><td> NA</td><td> NA</td><td>  NA</td><td>     NA</td><td>NA</td><td>NA</td><td>NA</td><td>    NA</td></tr>\n",
       "\t<tr><th scope=row>9</th><td>numeric  </td><td>ride_length_second</td><td>0</td><td>1</td><td>NA</td><td> NA</td><td>NA</td><td>    NA</td><td>NA</td><td>1360.908377</td><td>12913.165219</td><td>-8245</td><td>405</td><td>713</td><td>1257</td><td>2149238</td><td>NA</td><td>NA</td><td>NA</td><td>    NA</td></tr>\n",
       "\t<tr><th scope=row>10</th><td>numeric  </td><td>day_of_week       </td><td>0</td><td>1</td><td>NA</td><td> NA</td><td>NA</td><td>    NA</td><td>NA</td><td>   4.170822</td><td>    1.918404</td><td>    1</td><td>  3</td><td>  4</td><td>   6</td><td>      7</td><td>NA</td><td>NA</td><td>NA</td><td>    NA</td></tr>\n",
       "\t<tr><th scope=row>11</th><td>POSIXct  </td><td>started_at        </td><td>0</td><td>1</td><td>NA</td><td> NA</td><td>NA</td><td>    NA</td><td>NA</td><td>         NA</td><td>          NA</td><td>   NA</td><td> NA</td><td> NA</td><td>  NA</td><td>     NA</td><td>2022-06-01 00:00:04</td><td>2022-06-30 23:59:58</td><td>2022-06-17 09:35:34</td><td>617356</td></tr>\n",
       "\t<tr><th scope=row>12</th><td>POSIXct  </td><td>ended_at          </td><td>0</td><td>1</td><td>NA</td><td> NA</td><td>NA</td><td>    NA</td><td>NA</td><td>         NA</td><td>          NA</td><td>   NA</td><td> NA</td><td> NA</td><td>  NA</td><td>     NA</td><td>2022-06-01 00:02:38</td><td>2022-07-13 04:21:06</td><td>2022-06-17 09:54:49</td><td>620434</td></tr>\n",
       "</tbody>\n",
       "</table>\n"
      ],
      "text/latex": [
       "A skim\\_df: 12 × 20\n",
       "\\begin{tabular}{r|llllllllllllllllllll}\n",
       "  & skim\\_type & skim\\_variable & n\\_missing & complete\\_rate & character.min & character.max & character.empty & character.n\\_unique & character.whitespace & numeric.mean & numeric.sd & numeric.p0 & numeric.p25 & numeric.p50 & numeric.p75 & numeric.p100 & POSIXct.min & POSIXct.max & POSIXct.median & POSIXct.n\\_unique\\\\\n",
       "  & <chr> & <chr> & <int> & <dbl> & <int> & <int> & <int> & <int> & <int> & <dbl> & <dbl> & <dbl> & <dbl> & <dbl> & <dbl> & <dbl> & <dttm> & <dttm> & <dttm> & <int>\\\\\n",
       "\\hline\n",
       "\t1 & character & ride\\_id            & 0 & 1 & 16 &  16 &  0 & 769204 &  0 &          NA &           NA &    NA &  NA &  NA &   NA &      NA & NA & NA & NA &     NA\\\\\n",
       "\t2 & character & rideable\\_type      & 0 & 1 & 11 &  13 &  0 &      3 &  0 &          NA &           NA &    NA &  NA &  NA &   NA &      NA & NA & NA & NA &     NA\\\\\n",
       "\t3 & character & start\\_station\\_name & 0 & 1 &  7 &  53 &  0 &   1158 &  0 &          NA &           NA &    NA &  NA &  NA &   NA &      NA & NA & NA & NA &     NA\\\\\n",
       "\t4 & character & start\\_station\\_id   & 0 & 1 &  3 &  35 &  0 &   1063 &  0 &          NA &           NA &    NA &  NA &  NA &   NA &      NA & NA & NA & NA &     NA\\\\\n",
       "\t5 & character & end\\_station\\_name   & 0 & 1 & 10 &  53 &  0 &   1181 &  0 &          NA &           NA &    NA &  NA &  NA &   NA &      NA & NA & NA & NA &     NA\\\\\n",
       "\t6 & character & end\\_station\\_id     & 0 & 1 &  3 &  36 &  0 &   1079 &  0 &          NA &           NA &    NA &  NA &  NA &   NA &      NA & NA & NA & NA &     NA\\\\\n",
       "\t7 & character & member\\_casual      & 0 & 1 &  6 &   6 &  0 &      2 &  0 &          NA &           NA &    NA &  NA &  NA &   NA &      NA & NA & NA & NA &     NA\\\\\n",
       "\t8 & character & track              & 0 & 1 & 24 & 110 &  0 &  88819 &  0 &          NA &           NA &    NA &  NA &  NA &   NA &      NA & NA & NA & NA &     NA\\\\\n",
       "\t9 & numeric   & ride\\_length\\_second & 0 & 1 & NA &  NA & NA &     NA & NA & 1360.908377 & 12913.165219 & -8245 & 405 & 713 & 1257 & 2149238 & NA & NA & NA &     NA\\\\\n",
       "\t10 & numeric   & day\\_of\\_week        & 0 & 1 & NA &  NA & NA &     NA & NA &    4.170822 &     1.918404 &     1 &   3 &   4 &    6 &       7 & NA & NA & NA &     NA\\\\\n",
       "\t11 & POSIXct   & started\\_at         & 0 & 1 & NA &  NA & NA &     NA & NA &          NA &           NA &    NA &  NA &  NA &   NA &      NA & 2022-06-01 00:00:04 & 2022-06-30 23:59:58 & 2022-06-17 09:35:34 & 617356\\\\\n",
       "\t12 & POSIXct   & ended\\_at           & 0 & 1 & NA &  NA & NA &     NA & NA &          NA &           NA &    NA &  NA &  NA &   NA &      NA & 2022-06-01 00:02:38 & 2022-07-13 04:21:06 & 2022-06-17 09:54:49 & 620434\\\\\n",
       "\\end{tabular}\n"
      ],
      "text/markdown": [
       "\n",
       "A skim_df: 12 × 20\n",
       "\n",
       "| <!--/--> | skim_type &lt;chr&gt; | skim_variable &lt;chr&gt; | n_missing &lt;int&gt; | complete_rate &lt;dbl&gt; | character.min &lt;int&gt; | character.max &lt;int&gt; | character.empty &lt;int&gt; | character.n_unique &lt;int&gt; | character.whitespace &lt;int&gt; | numeric.mean &lt;dbl&gt; | numeric.sd &lt;dbl&gt; | numeric.p0 &lt;dbl&gt; | numeric.p25 &lt;dbl&gt; | numeric.p50 &lt;dbl&gt; | numeric.p75 &lt;dbl&gt; | numeric.p100 &lt;dbl&gt; | POSIXct.min &lt;dttm&gt; | POSIXct.max &lt;dttm&gt; | POSIXct.median &lt;dttm&gt; | POSIXct.n_unique &lt;int&gt; |\n",
       "|---|---|---|---|---|---|---|---|---|---|---|---|---|---|---|---|---|---|---|---|---|\n",
       "| 1 | character | ride_id            | 0 | 1 | 16 |  16 |  0 | 769204 |  0 |          NA |           NA |    NA |  NA |  NA |   NA |      NA | NA | NA | NA |     NA |\n",
       "| 2 | character | rideable_type      | 0 | 1 | 11 |  13 |  0 |      3 |  0 |          NA |           NA |    NA |  NA |  NA |   NA |      NA | NA | NA | NA |     NA |\n",
       "| 3 | character | start_station_name | 0 | 1 |  7 |  53 |  0 |   1158 |  0 |          NA |           NA |    NA |  NA |  NA |   NA |      NA | NA | NA | NA |     NA |\n",
       "| 4 | character | start_station_id   | 0 | 1 |  3 |  35 |  0 |   1063 |  0 |          NA |           NA |    NA |  NA |  NA |   NA |      NA | NA | NA | NA |     NA |\n",
       "| 5 | character | end_station_name   | 0 | 1 | 10 |  53 |  0 |   1181 |  0 |          NA |           NA |    NA |  NA |  NA |   NA |      NA | NA | NA | NA |     NA |\n",
       "| 6 | character | end_station_id     | 0 | 1 |  3 |  36 |  0 |   1079 |  0 |          NA |           NA |    NA |  NA |  NA |   NA |      NA | NA | NA | NA |     NA |\n",
       "| 7 | character | member_casual      | 0 | 1 |  6 |   6 |  0 |      2 |  0 |          NA |           NA |    NA |  NA |  NA |   NA |      NA | NA | NA | NA |     NA |\n",
       "| 8 | character | track              | 0 | 1 | 24 | 110 |  0 |  88819 |  0 |          NA |           NA |    NA |  NA |  NA |   NA |      NA | NA | NA | NA |     NA |\n",
       "| 9 | numeric   | ride_length_second | 0 | 1 | NA |  NA | NA |     NA | NA | 1360.908377 | 12913.165219 | -8245 | 405 | 713 | 1257 | 2149238 | NA | NA | NA |     NA |\n",
       "| 10 | numeric   | day_of_week        | 0 | 1 | NA |  NA | NA |     NA | NA |    4.170822 |     1.918404 |     1 |   3 |   4 |    6 |       7 | NA | NA | NA |     NA |\n",
       "| 11 | POSIXct   | started_at         | 0 | 1 | NA |  NA | NA |     NA | NA |          NA |           NA |    NA |  NA |  NA |   NA |      NA | 2022-06-01 00:00:04 | 2022-06-30 23:59:58 | 2022-06-17 09:35:34 | 617356 |\n",
       "| 12 | POSIXct   | ended_at           | 0 | 1 | NA |  NA | NA |     NA | NA |          NA |           NA |    NA |  NA |  NA |   NA |      NA | 2022-06-01 00:02:38 | 2022-07-13 04:21:06 | 2022-06-17 09:54:49 | 620434 |\n",
       "\n"
      ],
      "text/plain": {
       "POSIXct": [
        {
         "complete_rate": 1,
         "max": "2022-06-30 23:59:58",
         "median": "2022-06-17 09:35:34",
         "min": "2022-06-01 00:00:04",
         "n_missing": 0,
         "n_unique": 617356,
         "skim_variable": "started_at"
        },
        {
         "complete_rate": 1,
         "max": "2022-07-13 04:21:06",
         "median": "2022-06-17 09:54:49",
         "min": "2022-06-01 00:02:38",
         "n_missing": 0,
         "n_unique": 620434,
         "skim_variable": "ended_at"
        }
       ],
       "character": [
        {
         "complete_rate": 1,
         "empty": 0,
         "max": 16,
         "min": 16,
         "n_missing": 0,
         "n_unique": 769204,
         "skim_variable": "ride_id",
         "whitespace": 0
        },
        {
         "complete_rate": 1,
         "empty": 0,
         "max": 13,
         "min": 11,
         "n_missing": 0,
         "n_unique": 3,
         "skim_variable": "rideable_type",
         "whitespace": 0
        },
        {
         "complete_rate": 1,
         "empty": 0,
         "max": 53,
         "min": 7,
         "n_missing": 0,
         "n_unique": 1158,
         "skim_variable": "start_station_name",
         "whitespace": 0
        },
        {
         "complete_rate": 1,
         "empty": 0,
         "max": 35,
         "min": 3,
         "n_missing": 0,
         "n_unique": 1063,
         "skim_variable": "start_station_id",
         "whitespace": 0
        },
        {
         "complete_rate": 1,
         "empty": 0,
         "max": 53,
         "min": 10,
         "n_missing": 0,
         "n_unique": 1181,
         "skim_variable": "end_station_name",
         "whitespace": 0
        },
        {
         "complete_rate": 1,
         "empty": 0,
         "max": 36,
         "min": 3,
         "n_missing": 0,
         "n_unique": 1079,
         "skim_variable": "end_station_id",
         "whitespace": 0
        },
        {
         "complete_rate": 1,
         "empty": 0,
         "max": 6,
         "min": 6,
         "n_missing": 0,
         "n_unique": 2,
         "skim_variable": "member_casual",
         "whitespace": 0
        },
        {
         "complete_rate": 1,
         "empty": 0,
         "max": 110,
         "min": 24,
         "n_missing": 0,
         "n_unique": 88819,
         "skim_variable": "track",
         "whitespace": 0
        }
       ],
       "numeric": [
        {
         "complete_rate": 1,
         "mean": 1360.9084,
         "n_missing": 0,
         "p0": -8245,
         "p100": 2149238,
         "p25": 405,
         "p50": 713,
         "p75": 1257,
         "sd": 12913.1652,
         "skim_variable": "ride_length_second"
        },
        {
         "complete_rate": 1,
         "mean": 4.1708,
         "n_missing": 0,
         "p0": 1,
         "p100": 7,
         "p25": 3,
         "p50": 4,
         "p75": 6,
         "sd": 1.9184,
         "skim_variable": "day_of_week"
        }
       ]
      }
     },
     "metadata": {},
     "output_type": "display_data"
    }
   ],
   "source": [
    "skim_without_charts(trip_data)"
   ]
  },
  {
   "cell_type": "markdown",
   "id": "9d555b02-9c3a-4f30-843c-ead04f4f1946",
   "metadata": {},
   "source": [
    "Bedasarkan summary data diatas, pada kolom ride_length_second ditemukan adanya nilai negatif. Hal ini berarti ada data yang tidak valid pada kolom started_at atau ended_at, dimana waktu mulai lebih besar dibanding waktu selesai."
   ]
  },
  {
   "cell_type": "markdown",
   "id": "2a53efeb-9bc4-42ef-9cc2-df98d139bd2d",
   "metadata": {},
   "source": [
    "# Data Cleaning"
   ]
  },
  {
   "cell_type": "markdown",
   "id": "1df746ba-457f-4482-87d1-d68f174e69c8",
   "metadata": {},
   "source": [
    "Pertama-tama, saya akan memastikan bahwa nama kolom sesuai dengan prinsip clean data dengan menggunakan fungsi clean_names"
   ]
  },
  {
   "cell_type": "code",
   "execution_count": 5,
   "id": "310f5e61-c256-4f1d-a109-4c0930c31de4",
   "metadata": {},
   "outputs": [],
   "source": [
    "trip_data <- clean_names(trip_data)"
   ]
  },
  {
   "cell_type": "markdown",
   "id": "6c46ee7c-93e8-4224-a31e-309660ba5dc7",
   "metadata": {},
   "source": [
    "Selanjutnya saya akan memeriksa jumlah data yang salah dengan kriteria nilai waktu selesai lebih dulu daripada waktu mulai"
   ]
  },
  {
   "cell_type": "code",
   "execution_count": 6,
   "id": "550b3a72-ddc8-4b3d-b0c9-b03a3d46fe79",
   "metadata": {},
   "outputs": [
    {
     "data": {
      "text/html": [
       "12"
      ],
      "text/latex": [
       "12"
      ],
      "text/markdown": [
       "12"
      ],
      "text/plain": [
       "[1] 12"
      ]
     },
     "metadata": {},
     "output_type": "display_data"
    }
   ],
   "source": [
    "length(filter(trip_data, started_at > ended_at))"
   ]
  },
  {
   "cell_type": "markdown",
   "id": "ff8603bf-13b2-4415-a8fb-c789dea5fff4",
   "metadata": {},
   "source": [
    "Karena jumlah data yang tidak terlalu banyak, maka saya dapat langsung menghapus data yang tidak valid tersebut"
   ]
  },
  {
   "cell_type": "code",
   "execution_count": 7,
   "id": "eee7f30c-67d1-48f9-ade6-c7db59ad3576",
   "metadata": {},
   "outputs": [],
   "source": [
    "trip_data <- trip_data[!(trip_data$started_at > trip_data$ended_at),]"
   ]
  },
  {
   "cell_type": "markdown",
   "id": "11478220-15d4-4a50-b0b9-9b45d3c224fa",
   "metadata": {},
   "source": [
    "Selanjutnya saya akan mengganti nilai pada kolom day_of_week menjadi nama hari yang sesuai dengan nilai pada kolom tersebut"
   ]
  },
  {
   "cell_type": "code",
   "execution_count": 8,
   "id": "5b07e6b8-56f6-4215-84c6-8e906527773f",
   "metadata": {},
   "outputs": [],
   "source": [
    "trip_data$day_of_week <- format(as.Date(trip_data$started_at), \"%A\")"
   ]
  },
  {
   "cell_type": "markdown",
   "id": "185fa1af-9811-45ef-a4ef-7fd5bfe47a9d",
   "metadata": {},
   "source": [
    "# Data Analysis"
   ]
  },
  {
   "cell_type": "markdown",
   "id": "c0bf5a70-7573-48e0-a8ef-738205ce3ce4",
   "metadata": {},
   "source": [
    "Pertama-tama saya akan menghitung summary statistics dari kolom ride_length_second"
   ]
  },
  {
   "cell_type": "code",
   "execution_count": 9,
   "id": "05c59102-3cd8-45e7-a338-42e0812b9213",
   "metadata": {},
   "outputs": [
    {
     "data": {
      "text/html": [
       "<table class=\"dataframe\">\n",
       "<caption>A tibble: 1 × 4</caption>\n",
       "<thead>\n",
       "\t<tr><th scope=col>mean</th><th scope=col>median</th><th scope=col>min</th><th scope=col>max</th></tr>\n",
       "\t<tr><th scope=col>&lt;dbl&gt;</th><th scope=col>&lt;dbl&gt;</th><th scope=col>&lt;dbl&gt;</th><th scope=col>&lt;dbl&gt;</th></tr>\n",
       "</thead>\n",
       "<tbody>\n",
       "\t<tr><td>1361.009</td><td>713</td><td>0</td><td>2149238</td></tr>\n",
       "</tbody>\n",
       "</table>\n"
      ],
      "text/latex": [
       "A tibble: 1 × 4\n",
       "\\begin{tabular}{llll}\n",
       " mean & median & min & max\\\\\n",
       " <dbl> & <dbl> & <dbl> & <dbl>\\\\\n",
       "\\hline\n",
       "\t 1361.009 & 713 & 0 & 2149238\\\\\n",
       "\\end{tabular}\n"
      ],
      "text/markdown": [
       "\n",
       "A tibble: 1 × 4\n",
       "\n",
       "| mean &lt;dbl&gt; | median &lt;dbl&gt; | min &lt;dbl&gt; | max &lt;dbl&gt; |\n",
       "|---|---|---|---|\n",
       "| 1361.009 | 713 | 0 | 2149238 |\n",
       "\n"
      ],
      "text/plain": [
       "  mean     median min max    \n",
       "1 1361.009 713    0   2149238"
      ]
     },
     "metadata": {},
     "output_type": "display_data"
    }
   ],
   "source": [
    "summarize(trip_data, \n",
    "        mean = mean(ride_length_second), \n",
    "        median = median(ride_length_second),\n",
    "        min = min(ride_length_second),\n",
    "        max = max(ride_length_second))"
   ]
  },
  {
   "cell_type": "markdown",
   "id": "1f760cf9-0102-4dd7-8025-804725cde269",
   "metadata": {},
   "source": [
    "Rata-rata waktu perjalanan = 1361 detik\n",
    "\n",
    "Nilai tengah = 713 detik\n",
    "\n",
    "Perjalanan tersingkat = 0 detik\n",
    "\n",
    "Perjalanan terlama = 2139238 detik"
   ]
  },
  {
   "cell_type": "markdown",
   "id": "b62f6cf4-8af1-492d-b421-04ae4e3ad952",
   "metadata": {},
   "source": [
    "## Membandingkan annual members dan casual riders"
   ]
  },
  {
   "cell_type": "code",
   "execution_count": 10,
   "id": "10823fff-78f3-4e0f-9add-c21501ae7f80",
   "metadata": {},
   "outputs": [
    {
     "data": {
      "text/html": [
       "<table class=\"dataframe\">\n",
       "<caption>A data.frame: 2 × 2</caption>\n",
       "<thead>\n",
       "\t<tr><th scope=col>member_casual</th><th scope=col>ride_length_second</th></tr>\n",
       "\t<tr><th scope=col>&lt;chr&gt;</th><th scope=col>&lt;dbl&gt;</th></tr>\n",
       "</thead>\n",
       "<tbody>\n",
       "\t<tr><td>casual</td><td>1925.9766</td></tr>\n",
       "\t<tr><td>member</td><td> 839.9561</td></tr>\n",
       "</tbody>\n",
       "</table>\n"
      ],
      "text/latex": [
       "A data.frame: 2 × 2\n",
       "\\begin{tabular}{ll}\n",
       " member\\_casual & ride\\_length\\_second\\\\\n",
       " <chr> & <dbl>\\\\\n",
       "\\hline\n",
       "\t casual & 1925.9766\\\\\n",
       "\t member &  839.9561\\\\\n",
       "\\end{tabular}\n"
      ],
      "text/markdown": [
       "\n",
       "A data.frame: 2 × 2\n",
       "\n",
       "| member_casual &lt;chr&gt; | ride_length_second &lt;dbl&gt; |\n",
       "|---|---|\n",
       "| casual | 1925.9766 |\n",
       "| member |  839.9561 |\n",
       "\n"
      ],
      "text/plain": [
       "  member_casual ride_length_second\n",
       "1 casual        1925.9766         \n",
       "2 member         839.9561         "
      ]
     },
     "metadata": {},
     "output_type": "display_data"
    }
   ],
   "source": [
    "aggregate(trip_data,ride_length_second ~ member_casual, FUN = mean)"
   ]
  },
  {
   "cell_type": "code",
   "execution_count": 11,
   "id": "58433aef-b5fe-4270-8bc4-90df70752c46",
   "metadata": {},
   "outputs": [
    {
     "data": {
      "text/html": [
       "<table class=\"dataframe\">\n",
       "<caption>A data.frame: 2 × 2</caption>\n",
       "<thead>\n",
       "\t<tr><th scope=col>member_casual</th><th scope=col>ride_length_second</th></tr>\n",
       "\t<tr><th scope=col>&lt;chr&gt;</th><th scope=col>&lt;dbl&gt;</th></tr>\n",
       "</thead>\n",
       "<tbody>\n",
       "\t<tr><td>casual</td><td>861</td></tr>\n",
       "\t<tr><td>member</td><td>602</td></tr>\n",
       "</tbody>\n",
       "</table>\n"
      ],
      "text/latex": [
       "A data.frame: 2 × 2\n",
       "\\begin{tabular}{ll}\n",
       " member\\_casual & ride\\_length\\_second\\\\\n",
       " <chr> & <dbl>\\\\\n",
       "\\hline\n",
       "\t casual & 861\\\\\n",
       "\t member & 602\\\\\n",
       "\\end{tabular}\n"
      ],
      "text/markdown": [
       "\n",
       "A data.frame: 2 × 2\n",
       "\n",
       "| member_casual &lt;chr&gt; | ride_length_second &lt;dbl&gt; |\n",
       "|---|---|\n",
       "| casual | 861 |\n",
       "| member | 602 |\n",
       "\n"
      ],
      "text/plain": [
       "  member_casual ride_length_second\n",
       "1 casual        861               \n",
       "2 member        602               "
      ]
     },
     "metadata": {},
     "output_type": "display_data"
    }
   ],
   "source": [
    "aggregate(trip_data,ride_length_second ~ member_casual, FUN = median)"
   ]
  },
  {
   "cell_type": "code",
   "execution_count": 12,
   "id": "c732de98-6321-4dd3-ba1f-a22f3abed480",
   "metadata": {},
   "outputs": [
    {
     "data": {
      "text/html": [
       "<table class=\"dataframe\">\n",
       "<caption>A data.frame: 2 × 2</caption>\n",
       "<thead>\n",
       "\t<tr><th scope=col>member_casual</th><th scope=col>ride_length_second</th></tr>\n",
       "\t<tr><th scope=col>&lt;chr&gt;</th><th scope=col>&lt;dbl&gt;</th></tr>\n",
       "</thead>\n",
       "<tbody>\n",
       "\t<tr><td>casual</td><td>0</td></tr>\n",
       "\t<tr><td>member</td><td>0</td></tr>\n",
       "</tbody>\n",
       "</table>\n"
      ],
      "text/latex": [
       "A data.frame: 2 × 2\n",
       "\\begin{tabular}{ll}\n",
       " member\\_casual & ride\\_length\\_second\\\\\n",
       " <chr> & <dbl>\\\\\n",
       "\\hline\n",
       "\t casual & 0\\\\\n",
       "\t member & 0\\\\\n",
       "\\end{tabular}\n"
      ],
      "text/markdown": [
       "\n",
       "A data.frame: 2 × 2\n",
       "\n",
       "| member_casual &lt;chr&gt; | ride_length_second &lt;dbl&gt; |\n",
       "|---|---|\n",
       "| casual | 0 |\n",
       "| member | 0 |\n",
       "\n"
      ],
      "text/plain": [
       "  member_casual ride_length_second\n",
       "1 casual        0                 \n",
       "2 member        0                 "
      ]
     },
     "metadata": {},
     "output_type": "display_data"
    }
   ],
   "source": [
    "aggregate(trip_data,ride_length_second ~ member_casual, FUN = min)"
   ]
  },
  {
   "cell_type": "code",
   "execution_count": 13,
   "id": "a24a0b5e-25ed-4333-aa14-35e2d4ea9da2",
   "metadata": {},
   "outputs": [
    {
     "data": {
      "text/html": [
       "<table class=\"dataframe\">\n",
       "<caption>A data.frame: 2 × 2</caption>\n",
       "<thead>\n",
       "\t<tr><th scope=col>member_casual</th><th scope=col>ride_length_second</th></tr>\n",
       "\t<tr><th scope=col>&lt;chr&gt;</th><th scope=col>&lt;dbl&gt;</th></tr>\n",
       "</thead>\n",
       "<tbody>\n",
       "\t<tr><td>casual</td><td>2149238</td></tr>\n",
       "\t<tr><td>member</td><td>  89997</td></tr>\n",
       "</tbody>\n",
       "</table>\n"
      ],
      "text/latex": [
       "A data.frame: 2 × 2\n",
       "\\begin{tabular}{ll}\n",
       " member\\_casual & ride\\_length\\_second\\\\\n",
       " <chr> & <dbl>\\\\\n",
       "\\hline\n",
       "\t casual & 2149238\\\\\n",
       "\t member &   89997\\\\\n",
       "\\end{tabular}\n"
      ],
      "text/markdown": [
       "\n",
       "A data.frame: 2 × 2\n",
       "\n",
       "| member_casual &lt;chr&gt; | ride_length_second &lt;dbl&gt; |\n",
       "|---|---|\n",
       "| casual | 2149238 |\n",
       "| member |   89997 |\n",
       "\n"
      ],
      "text/plain": [
       "  member_casual ride_length_second\n",
       "1 casual        2149238           \n",
       "2 member          89997           "
      ]
     },
     "metadata": {},
     "output_type": "display_data"
    }
   ],
   "source": [
    "aggregate(trip_data,ride_length_second ~ member_casual, FUN = max)"
   ]
  },
  {
   "cell_type": "code",
   "execution_count": 14,
   "id": "727e5923-94e9-48ed-bbb4-788eb2b839ae",
   "metadata": {},
   "outputs": [
    {
     "data": {
      "text/html": [
       "<table class=\"dataframe\">\n",
       "<caption>A data.frame: 14 × 3</caption>\n",
       "<thead>\n",
       "\t<tr><th scope=col>member_casual</th><th scope=col>day_of_week</th><th scope=col>ride_length_second</th></tr>\n",
       "\t<tr><th scope=col>&lt;chr&gt;</th><th scope=col>&lt;chr&gt;</th><th scope=col>&lt;dbl&gt;</th></tr>\n",
       "</thead>\n",
       "<tbody>\n",
       "\t<tr><td>casual</td><td>Jumat </td><td>1958.4941</td></tr>\n",
       "\t<tr><td>member</td><td>Jumat </td><td> 828.1977</td></tr>\n",
       "\t<tr><td>casual</td><td>Kamis </td><td>1811.7459</td></tr>\n",
       "\t<tr><td>member</td><td>Kamis </td><td> 822.2989</td></tr>\n",
       "\t<tr><td>casual</td><td>Minggu</td><td>2168.2113</td></tr>\n",
       "\t<tr><td>member</td><td>Minggu</td><td> 941.0249</td></tr>\n",
       "\t<tr><td>casual</td><td>Rabu  </td><td>1743.9403</td></tr>\n",
       "\t<tr><td>member</td><td>Rabu  </td><td> 786.3334</td></tr>\n",
       "\t<tr><td>casual</td><td>Sabtu </td><td>1933.5799</td></tr>\n",
       "\t<tr><td>member</td><td>Sabtu </td><td> 910.4132</td></tr>\n",
       "\t<tr><td>casual</td><td>Selasa</td><td>1888.6166</td></tr>\n",
       "\t<tr><td>member</td><td>Selasa</td><td> 818.6931</td></tr>\n",
       "\t<tr><td>casual</td><td>Senin </td><td>1888.6294</td></tr>\n",
       "\t<tr><td>member</td><td>Senin </td><td> 805.1215</td></tr>\n",
       "</tbody>\n",
       "</table>\n"
      ],
      "text/latex": [
       "A data.frame: 14 × 3\n",
       "\\begin{tabular}{lll}\n",
       " member\\_casual & day\\_of\\_week & ride\\_length\\_second\\\\\n",
       " <chr> & <chr> & <dbl>\\\\\n",
       "\\hline\n",
       "\t casual & Jumat  & 1958.4941\\\\\n",
       "\t member & Jumat  &  828.1977\\\\\n",
       "\t casual & Kamis  & 1811.7459\\\\\n",
       "\t member & Kamis  &  822.2989\\\\\n",
       "\t casual & Minggu & 2168.2113\\\\\n",
       "\t member & Minggu &  941.0249\\\\\n",
       "\t casual & Rabu   & 1743.9403\\\\\n",
       "\t member & Rabu   &  786.3334\\\\\n",
       "\t casual & Sabtu  & 1933.5799\\\\\n",
       "\t member & Sabtu  &  910.4132\\\\\n",
       "\t casual & Selasa & 1888.6166\\\\\n",
       "\t member & Selasa &  818.6931\\\\\n",
       "\t casual & Senin  & 1888.6294\\\\\n",
       "\t member & Senin  &  805.1215\\\\\n",
       "\\end{tabular}\n"
      ],
      "text/markdown": [
       "\n",
       "A data.frame: 14 × 3\n",
       "\n",
       "| member_casual &lt;chr&gt; | day_of_week &lt;chr&gt; | ride_length_second &lt;dbl&gt; |\n",
       "|---|---|---|\n",
       "| casual | Jumat  | 1958.4941 |\n",
       "| member | Jumat  |  828.1977 |\n",
       "| casual | Kamis  | 1811.7459 |\n",
       "| member | Kamis  |  822.2989 |\n",
       "| casual | Minggu | 2168.2113 |\n",
       "| member | Minggu |  941.0249 |\n",
       "| casual | Rabu   | 1743.9403 |\n",
       "| member | Rabu   |  786.3334 |\n",
       "| casual | Sabtu  | 1933.5799 |\n",
       "| member | Sabtu  |  910.4132 |\n",
       "| casual | Selasa | 1888.6166 |\n",
       "| member | Selasa |  818.6931 |\n",
       "| casual | Senin  | 1888.6294 |\n",
       "| member | Senin  |  805.1215 |\n",
       "\n"
      ],
      "text/plain": [
       "   member_casual day_of_week ride_length_second\n",
       "1  casual        Jumat       1958.4941         \n",
       "2  member        Jumat        828.1977         \n",
       "3  casual        Kamis       1811.7459         \n",
       "4  member        Kamis        822.2989         \n",
       "5  casual        Minggu      2168.2113         \n",
       "6  member        Minggu       941.0249         \n",
       "7  casual        Rabu        1743.9403         \n",
       "8  member        Rabu         786.3334         \n",
       "9  casual        Sabtu       1933.5799         \n",
       "10 member        Sabtu        910.4132         \n",
       "11 casual        Selasa      1888.6166         \n",
       "12 member        Selasa       818.6931         \n",
       "13 casual        Senin       1888.6294         \n",
       "14 member        Senin        805.1215         "
      ]
     },
     "metadata": {},
     "output_type": "display_data"
    }
   ],
   "source": [
    "aggregate(trip_data,ride_length_second ~ member_casual + day_of_week, FUN = mean)"
   ]
  },
  {
   "cell_type": "markdown",
   "id": "2c046d8c-6237-419a-afd1-dfa0d3c265b4",
   "metadata": {},
   "source": [
    "Dapat dilihat bahwa kolom day_of week tidak terurut sesuai dengan harinya. Saya akan merapikan kolom tersebut"
   ]
  },
  {
   "cell_type": "code",
   "execution_count": 15,
   "id": "21d9b4c0-14f3-43df-9a2f-6e28243a870f",
   "metadata": {},
   "outputs": [],
   "source": [
    "trip_data$day_of_week <- ordered(trip_data$day_of_week, levels=c(\"Senin\", \"Selasa\", \"Rabu\", \"Kamis\", \"Jumat\", \"Sabtu\",\"Minggu\"))"
   ]
  },
  {
   "cell_type": "code",
   "execution_count": 16,
   "id": "74db9e26-2400-4131-a32b-6160cccafb12",
   "metadata": {},
   "outputs": [
    {
     "data": {
      "text/html": [
       "<table class=\"dataframe\">\n",
       "<caption>A data.frame: 14 × 3</caption>\n",
       "<thead>\n",
       "\t<tr><th scope=col>member_casual</th><th scope=col>day_of_week</th><th scope=col>ride_length_second</th></tr>\n",
       "\t<tr><th scope=col>&lt;chr&gt;</th><th scope=col>&lt;ord&gt;</th><th scope=col>&lt;dbl&gt;</th></tr>\n",
       "</thead>\n",
       "<tbody>\n",
       "\t<tr><td>casual</td><td>Senin </td><td>1888.6294</td></tr>\n",
       "\t<tr><td>member</td><td>Senin </td><td> 805.1215</td></tr>\n",
       "\t<tr><td>casual</td><td>Selasa</td><td>1888.6166</td></tr>\n",
       "\t<tr><td>member</td><td>Selasa</td><td> 818.6931</td></tr>\n",
       "\t<tr><td>casual</td><td>Rabu  </td><td>1743.9403</td></tr>\n",
       "\t<tr><td>member</td><td>Rabu  </td><td> 786.3334</td></tr>\n",
       "\t<tr><td>casual</td><td>Kamis </td><td>1811.7459</td></tr>\n",
       "\t<tr><td>member</td><td>Kamis </td><td> 822.2989</td></tr>\n",
       "\t<tr><td>casual</td><td>Jumat </td><td>1958.4941</td></tr>\n",
       "\t<tr><td>member</td><td>Jumat </td><td> 828.1977</td></tr>\n",
       "\t<tr><td>casual</td><td>Sabtu </td><td>1933.5799</td></tr>\n",
       "\t<tr><td>member</td><td>Sabtu </td><td> 910.4132</td></tr>\n",
       "\t<tr><td>casual</td><td>Minggu</td><td>2168.2113</td></tr>\n",
       "\t<tr><td>member</td><td>Minggu</td><td> 941.0249</td></tr>\n",
       "</tbody>\n",
       "</table>\n"
      ],
      "text/latex": [
       "A data.frame: 14 × 3\n",
       "\\begin{tabular}{lll}\n",
       " member\\_casual & day\\_of\\_week & ride\\_length\\_second\\\\\n",
       " <chr> & <ord> & <dbl>\\\\\n",
       "\\hline\n",
       "\t casual & Senin  & 1888.6294\\\\\n",
       "\t member & Senin  &  805.1215\\\\\n",
       "\t casual & Selasa & 1888.6166\\\\\n",
       "\t member & Selasa &  818.6931\\\\\n",
       "\t casual & Rabu   & 1743.9403\\\\\n",
       "\t member & Rabu   &  786.3334\\\\\n",
       "\t casual & Kamis  & 1811.7459\\\\\n",
       "\t member & Kamis  &  822.2989\\\\\n",
       "\t casual & Jumat  & 1958.4941\\\\\n",
       "\t member & Jumat  &  828.1977\\\\\n",
       "\t casual & Sabtu  & 1933.5799\\\\\n",
       "\t member & Sabtu  &  910.4132\\\\\n",
       "\t casual & Minggu & 2168.2113\\\\\n",
       "\t member & Minggu &  941.0249\\\\\n",
       "\\end{tabular}\n"
      ],
      "text/markdown": [
       "\n",
       "A data.frame: 14 × 3\n",
       "\n",
       "| member_casual &lt;chr&gt; | day_of_week &lt;ord&gt; | ride_length_second &lt;dbl&gt; |\n",
       "|---|---|---|\n",
       "| casual | Senin  | 1888.6294 |\n",
       "| member | Senin  |  805.1215 |\n",
       "| casual | Selasa | 1888.6166 |\n",
       "| member | Selasa |  818.6931 |\n",
       "| casual | Rabu   | 1743.9403 |\n",
       "| member | Rabu   |  786.3334 |\n",
       "| casual | Kamis  | 1811.7459 |\n",
       "| member | Kamis  |  822.2989 |\n",
       "| casual | Jumat  | 1958.4941 |\n",
       "| member | Jumat  |  828.1977 |\n",
       "| casual | Sabtu  | 1933.5799 |\n",
       "| member | Sabtu  |  910.4132 |\n",
       "| casual | Minggu | 2168.2113 |\n",
       "| member | Minggu |  941.0249 |\n",
       "\n"
      ],
      "text/plain": [
       "   member_casual day_of_week ride_length_second\n",
       "1  casual        Senin       1888.6294         \n",
       "2  member        Senin        805.1215         \n",
       "3  casual        Selasa      1888.6166         \n",
       "4  member        Selasa       818.6931         \n",
       "5  casual        Rabu        1743.9403         \n",
       "6  member        Rabu         786.3334         \n",
       "7  casual        Kamis       1811.7459         \n",
       "8  member        Kamis        822.2989         \n",
       "9  casual        Jumat       1958.4941         \n",
       "10 member        Jumat        828.1977         \n",
       "11 casual        Sabtu       1933.5799         \n",
       "12 member        Sabtu        910.4132         \n",
       "13 casual        Minggu      2168.2113         \n",
       "14 member        Minggu       941.0249         "
      ]
     },
     "metadata": {},
     "output_type": "display_data"
    }
   ],
   "source": [
    "aggregate(trip_data,ride_length_second ~ member_casual + day_of_week, FUN = mean)"
   ]
  },
  {
   "cell_type": "markdown",
   "id": "40cf8153-2d63-44d6-b467-af24384adb94",
   "metadata": {},
   "source": [
    "## Menganalisis data pengguna berdasarkan jenis dan hari"
   ]
  },
  {
   "cell_type": "code",
   "execution_count": null,
   "id": "df2b7374-a296-4a90-9115-ca6900cd86e2",
   "metadata": {},
   "outputs": [],
   "source": []
  },
  {
   "cell_type": "markdown",
   "id": "26fd387b-df77-4fc9-b659-68e81761ee63",
   "metadata": {},
   "source": [
    "Selanjutnya saya akan mencari nilai jumlah perjalanan dan rata-rata lama perjalanan pada setiap jenis member setiap harinya"
   ]
  },
  {
   "cell_type": "code",
   "execution_count": 17,
   "id": "3bcba2a8-b8f6-4466-a734-1e8f8028ab2e",
   "metadata": {},
   "outputs": [
    {
     "name": "stderr",
     "output_type": "stream",
     "text": [
      "\u001b[1m\u001b[22m`summarise()` has grouped output by 'member_casual'. You can override using the `.groups` argument.\n"
     ]
    },
    {
     "data": {
      "text/html": [
       "<table class=\"dataframe\">\n",
       "<caption>A grouped_df: 14 × 4</caption>\n",
       "<thead>\n",
       "\t<tr><th scope=col>member_casual</th><th scope=col>day_of_week</th><th scope=col>number_of_rides</th><th scope=col>average_duration_min</th></tr>\n",
       "\t<tr><th scope=col>&lt;chr&gt;</th><th scope=col>&lt;ord&gt;</th><th scope=col>&lt;int&gt;</th><th scope=col>&lt;dbl&gt;</th></tr>\n",
       "</thead>\n",
       "<tbody>\n",
       "\t<tr><td>casual</td><td>Senin </td><td>37004</td><td>31.47716</td></tr>\n",
       "\t<tr><td>member</td><td>Senin </td><td>46791</td><td>13.41869</td></tr>\n",
       "\t<tr><td>casual</td><td>Selasa</td><td>38819</td><td>31.47694</td></tr>\n",
       "\t<tr><td>member</td><td>Selasa</td><td>54982</td><td>13.64489</td></tr>\n",
       "\t<tr><td>casual</td><td>Rabu  </td><td>48387</td><td>29.06567</td></tr>\n",
       "\t<tr><td>member</td><td>Rabu  </td><td>68797</td><td>13.10556</td></tr>\n",
       "\t<tr><td>casual</td><td>Kamis </td><td>57978</td><td>30.19577</td></tr>\n",
       "\t<tr><td>member</td><td>Kamis </td><td>73500</td><td>13.70498</td></tr>\n",
       "\t<tr><td>casual</td><td>Jumat </td><td>55868</td><td>32.64157</td></tr>\n",
       "\t<tr><td>member</td><td>Jumat </td><td>57322</td><td>13.80330</td></tr>\n",
       "\t<tr><td>casual</td><td>Sabtu </td><td>65137</td><td>32.22633</td></tr>\n",
       "\t<tr><td>member</td><td>Sabtu </td><td>49694</td><td>15.17355</td></tr>\n",
       "\t<tr><td>casual</td><td>Minggu</td><td>65851</td><td>36.13685</td></tr>\n",
       "\t<tr><td>member</td><td>Minggu</td><td>49062</td><td>15.68375</td></tr>\n",
       "</tbody>\n",
       "</table>\n"
      ],
      "text/latex": [
       "A grouped\\_df: 14 × 4\n",
       "\\begin{tabular}{llll}\n",
       " member\\_casual & day\\_of\\_week & number\\_of\\_rides & average\\_duration\\_min\\\\\n",
       " <chr> & <ord> & <int> & <dbl>\\\\\n",
       "\\hline\n",
       "\t casual & Senin  & 37004 & 31.47716\\\\\n",
       "\t member & Senin  & 46791 & 13.41869\\\\\n",
       "\t casual & Selasa & 38819 & 31.47694\\\\\n",
       "\t member & Selasa & 54982 & 13.64489\\\\\n",
       "\t casual & Rabu   & 48387 & 29.06567\\\\\n",
       "\t member & Rabu   & 68797 & 13.10556\\\\\n",
       "\t casual & Kamis  & 57978 & 30.19577\\\\\n",
       "\t member & Kamis  & 73500 & 13.70498\\\\\n",
       "\t casual & Jumat  & 55868 & 32.64157\\\\\n",
       "\t member & Jumat  & 57322 & 13.80330\\\\\n",
       "\t casual & Sabtu  & 65137 & 32.22633\\\\\n",
       "\t member & Sabtu  & 49694 & 15.17355\\\\\n",
       "\t casual & Minggu & 65851 & 36.13685\\\\\n",
       "\t member & Minggu & 49062 & 15.68375\\\\\n",
       "\\end{tabular}\n"
      ],
      "text/markdown": [
       "\n",
       "A grouped_df: 14 × 4\n",
       "\n",
       "| member_casual &lt;chr&gt; | day_of_week &lt;ord&gt; | number_of_rides &lt;int&gt; | average_duration_min &lt;dbl&gt; |\n",
       "|---|---|---|---|\n",
       "| casual | Senin  | 37004 | 31.47716 |\n",
       "| member | Senin  | 46791 | 13.41869 |\n",
       "| casual | Selasa | 38819 | 31.47694 |\n",
       "| member | Selasa | 54982 | 13.64489 |\n",
       "| casual | Rabu   | 48387 | 29.06567 |\n",
       "| member | Rabu   | 68797 | 13.10556 |\n",
       "| casual | Kamis  | 57978 | 30.19577 |\n",
       "| member | Kamis  | 73500 | 13.70498 |\n",
       "| casual | Jumat  | 55868 | 32.64157 |\n",
       "| member | Jumat  | 57322 | 13.80330 |\n",
       "| casual | Sabtu  | 65137 | 32.22633 |\n",
       "| member | Sabtu  | 49694 | 15.17355 |\n",
       "| casual | Minggu | 65851 | 36.13685 |\n",
       "| member | Minggu | 49062 | 15.68375 |\n",
       "\n"
      ],
      "text/plain": [
       "   member_casual day_of_week number_of_rides average_duration_min\n",
       "1  casual        Senin       37004           31.47716            \n",
       "2  member        Senin       46791           13.41869            \n",
       "3  casual        Selasa      38819           31.47694            \n",
       "4  member        Selasa      54982           13.64489            \n",
       "5  casual        Rabu        48387           29.06567            \n",
       "6  member        Rabu        68797           13.10556            \n",
       "7  casual        Kamis       57978           30.19577            \n",
       "8  member        Kamis       73500           13.70498            \n",
       "9  casual        Jumat       55868           32.64157            \n",
       "10 member        Jumat       57322           13.80330            \n",
       "11 casual        Sabtu       65137           32.22633            \n",
       "12 member        Sabtu       49694           15.17355            \n",
       "13 casual        Minggu      65851           36.13685            \n",
       "14 member        Minggu      49062           15.68375            "
      ]
     },
     "metadata": {},
     "output_type": "display_data"
    }
   ],
   "source": [
    "trip_data %>% \n",
    "    group_by(member_casual, day_of_week) %>% \n",
    "    summarize(number_of_rides = n(), average_duration_min = mean(ride_length_second)/60) %>% \n",
    "    arrange(day_of_week,member_casual)"
   ]
  },
  {
   "cell_type": "markdown",
   "id": "a5a68c60-946a-47f1-93bc-f836da9019c4",
   "metadata": {},
   "source": [
    "Agar dapat lebih mudah dipahami, saya akan membuat visualisasi dari data tersebut"
   ]
  },
  {
   "cell_type": "code",
   "execution_count": 34,
   "id": "111d86fd-f572-48e7-b623-e7b05acc898d",
   "metadata": {},
   "outputs": [
    {
     "name": "stderr",
     "output_type": "stream",
     "text": [
      "\u001b[1m\u001b[22m`summarise()` has grouped output by 'member_casual'. You can override using the `.groups` argument.\n"
     ]
    },
    {
     "data": {
      "image/png": "[encoded data removed]",
      "text/plain": [
       "plot without title"
      ]
     },
     "metadata": {
      "image/png": {
       "height": 480,
       "width": 600
      }
     },
     "output_type": "display_data"
    }
   ],
   "source": [
    "trip_data %>% \n",
    "    group_by(member_casual, day_of_week) %>% \n",
    "    summarize(number_of_rides = n(), average_duration_min = mean(ride_length_second)/60) %>% \n",
    "    arrange(day_of_week,member_casual) %>% \n",
    "    ggplot(aes(x = day_of_week, y= number_of_rides, fill = member_casual)) +\n",
    "    geom_col(position = \"dodge\") + \n",
    "    labs(\n",
    "    title = \"Casual Riders vs Annual Members\",\n",
    "    subtitle = \"Based on number of trips per day\",\n",
    "    caption = \"Data collected from June 2022\",\n",
    "    x = \"Day\",\n",
    "    y = \"Number of Trips\",\n",
    "    fill='Customer Type'\n",
    "    )"
   ]
  },
  {
   "cell_type": "code",
   "execution_count": 31,
   "id": "a02040c2-291a-4be0-b4fa-4a6a321b527d",
   "metadata": {},
   "outputs": [
    {
     "name": "stderr",
     "output_type": "stream",
     "text": [
      "\u001b[1m\u001b[22m`summarise()` has grouped output by 'member_casual'. You can override using the `.groups` argument.\n"
     ]
    },
    {
     "data": {
      "image/png": "[encoded data removed]",
      "text/plain": [
       "plot without title"
      ]
     },
     "metadata": {
      "image/png": {
       "height": 360,
       "width": 480
      }
     },
     "output_type": "display_data"
    }
   ],
   "source": [
    "trip_data %>% \n",
    "    group_by(member_casual, day_of_week) %>% \n",
    "    summarize(number_of_rides = n(), average_duration_min = mean(ride_length_second)/60) %>% \n",
    "    arrange(day_of_week,member_casual) %>% \n",
    "    ggplot(aes(x = day_of_week, y= average_duration_min, fill = member_casual)) +\n",
    "    geom_col(position = \"dodge\") +\n",
    "    labs(\n",
    "    title = \"Casual Riders vs Annual Members\",\n",
    "    subtitle = \"Based on average duration per day\",\n",
    "    caption = \"Data collected from June 2022\",\n",
    "    x = \"Day\",\n",
    "    y = \"Average Duration (min)\",\n",
    "    fill='Customer Type'\n",
    "    )"
   ]
  },
  {
   "cell_type": "markdown",
   "id": "c1633fca-2a3f-40ed-b98a-7267d87b2eba",
   "metadata": {},
   "source": [
    "Selanjutnya saya akan mencari rute favorit dari masing-masing jenis member"
   ]
  },
  {
   "cell_type": "code",
   "execution_count": 20,
   "id": "dc35569d-7239-42ba-8588-38019b2b56da",
   "metadata": {},
   "outputs": [
    {
     "name": "stderr",
     "output_type": "stream",
     "text": [
      "\u001b[1m\u001b[22m`summarise()` has grouped output by 'member_casual'. You can override using the `.groups` argument.\n"
     ]
    },
    {
     "data": {
      "text/html": [
       "<table class=\"dataframe\">\n",
       "<caption>A grouped_df: 10 × 3</caption>\n",
       "<thead>\n",
       "\t<tr><th scope=col>member_casual</th><th scope=col>track</th><th scope=col>number_of_trips</th></tr>\n",
       "\t<tr><th scope=col>&lt;chr&gt;</th><th scope=col>&lt;chr&gt;</th><th scope=col>&lt;int&gt;</th></tr>\n",
       "</thead>\n",
       "<tbody>\n",
       "\t<tr><td>casual</td><td><span style=white-space:pre-wrap>Streeter Dr &amp; Grand Ave to Streeter Dr &amp; Grand Ave                    </span></td><td>1660</td></tr>\n",
       "\t<tr><td>casual</td><td>DuSable Lake Shore Dr &amp; Monroe St to DuSable Lake Shore Dr &amp; Monroe St</td><td> 987</td></tr>\n",
       "\t<tr><td>casual</td><td><span style=white-space:pre-wrap>Michigan Ave &amp; Oak St to Michigan Ave &amp; Oak St                        </span></td><td> 852</td></tr>\n",
       "\t<tr><td>casual</td><td><span style=white-space:pre-wrap>DuSable Lake Shore Dr &amp; Monroe St to Streeter Dr &amp; Grand Ave          </span></td><td> 830</td></tr>\n",
       "\t<tr><td>casual</td><td>Millennium Park to Millennium Park                                    </td><td> 605</td></tr>\n",
       "\t<tr><td>member</td><td><span style=white-space:pre-wrap>Streeter Dr &amp; Grand Ave to Streeter Dr &amp; Grand Ave                    </span></td><td> 268</td></tr>\n",
       "\t<tr><td>member</td><td><span style=white-space:pre-wrap>Loomis St &amp; Lexington St to Halsted St &amp; Polk St                      </span></td><td> 230</td></tr>\n",
       "\t<tr><td>member</td><td><span style=white-space:pre-wrap>Ellis Ave &amp; 55th St to Kimbark Ave &amp; 53rd St                          </span></td><td> 216</td></tr>\n",
       "\t<tr><td>member</td><td><span style=white-space:pre-wrap>Kimbark Ave &amp; 53rd St to Ellis Ave &amp; 55th St                          </span></td><td> 200</td></tr>\n",
       "\t<tr><td>member</td><td><span style=white-space:pre-wrap>Kimbark Ave &amp; 53rd St to University Ave &amp; 57th St                     </span></td><td> 200</td></tr>\n",
       "</tbody>\n",
       "</table>\n"
      ],
      "text/latex": [
       "A grouped\\_df: 10 × 3\n",
       "\\begin{tabular}{lll}\n",
       " member\\_casual & track & number\\_of\\_trips\\\\\n",
       " <chr> & <chr> & <int>\\\\\n",
       "\\hline\n",
       "\t casual & Streeter Dr \\& Grand Ave to Streeter Dr \\& Grand Ave                     & 1660\\\\\n",
       "\t casual & DuSable Lake Shore Dr \\& Monroe St to DuSable Lake Shore Dr \\& Monroe St &  987\\\\\n",
       "\t casual & Michigan Ave \\& Oak St to Michigan Ave \\& Oak St                         &  852\\\\\n",
       "\t casual & DuSable Lake Shore Dr \\& Monroe St to Streeter Dr \\& Grand Ave           &  830\\\\\n",
       "\t casual & Millennium Park to Millennium Park                                     &  605\\\\\n",
       "\t member & Streeter Dr \\& Grand Ave to Streeter Dr \\& Grand Ave                     &  268\\\\\n",
       "\t member & Loomis St \\& Lexington St to Halsted St \\& Polk St                       &  230\\\\\n",
       "\t member & Ellis Ave \\& 55th St to Kimbark Ave \\& 53rd St                           &  216\\\\\n",
       "\t member & Kimbark Ave \\& 53rd St to Ellis Ave \\& 55th St                           &  200\\\\\n",
       "\t member & Kimbark Ave \\& 53rd St to University Ave \\& 57th St                      &  200\\\\\n",
       "\\end{tabular}\n"
      ],
      "text/markdown": [
       "\n",
       "A grouped_df: 10 × 3\n",
       "\n",
       "| member_casual &lt;chr&gt; | track &lt;chr&gt; | number_of_trips &lt;int&gt; |\n",
       "|---|---|---|\n",
       "| casual | Streeter Dr &amp; Grand Ave to Streeter Dr &amp; Grand Ave                     | 1660 |\n",
       "| casual | DuSable Lake Shore Dr &amp; Monroe St to DuSable Lake Shore Dr &amp; Monroe St |  987 |\n",
       "| casual | Michigan Ave &amp; Oak St to Michigan Ave &amp; Oak St                         |  852 |\n",
       "| casual | DuSable Lake Shore Dr &amp; Monroe St to Streeter Dr &amp; Grand Ave           |  830 |\n",
       "| casual | Millennium Park to Millennium Park                                     |  605 |\n",
       "| member | Streeter Dr &amp; Grand Ave to Streeter Dr &amp; Grand Ave                     |  268 |\n",
       "| member | Loomis St &amp; Lexington St to Halsted St &amp; Polk St                       |  230 |\n",
       "| member | Ellis Ave &amp; 55th St to Kimbark Ave &amp; 53rd St                           |  216 |\n",
       "| member | Kimbark Ave &amp; 53rd St to Ellis Ave &amp; 55th St                           |  200 |\n",
       "| member | Kimbark Ave &amp; 53rd St to University Ave &amp; 57th St                      |  200 |\n",
       "\n"
      ],
      "text/plain": [
       "   member_casual\n",
       "1  casual       \n",
       "2  casual       \n",
       "3  casual       \n",
       "4  casual       \n",
       "5  casual       \n",
       "6  member       \n",
       "7  member       \n",
       "8  member       \n",
       "9  member       \n",
       "10 member       \n",
       "   track                                                                 \n",
       "1  Streeter Dr & Grand Ave to Streeter Dr & Grand Ave                    \n",
       "2  DuSable Lake Shore Dr & Monroe St to DuSable Lake Shore Dr & Monroe St\n",
       "3  Michigan Ave & Oak St to Michigan Ave & Oak St                        \n",
       "4  DuSable Lake Shore Dr & Monroe St to Streeter Dr & Grand Ave          \n",
       "5  Millennium Park to Millennium Park                                    \n",
       "6  Streeter Dr & Grand Ave to Streeter Dr & Grand Ave                    \n",
       "7  Loomis St & Lexington St to Halsted St & Polk St                      \n",
       "8  Ellis Ave & 55th St to Kimbark Ave & 53rd St                          \n",
       "9  Kimbark Ave & 53rd St to Ellis Ave & 55th St                          \n",
       "10 Kimbark Ave & 53rd St to University Ave & 57th St                     \n",
       "   number_of_trips\n",
       "1  1660           \n",
       "2   987           \n",
       "3   852           \n",
       "4   830           \n",
       "5   605           \n",
       "6   268           \n",
       "7   230           \n",
       "8   216           \n",
       "9   200           \n",
       "10  200           "
      ]
     },
     "metadata": {},
     "output_type": "display_data"
    }
   ],
   "source": [
    "trip_data %>% \n",
    "    group_by(member_casual, track) %>% \n",
    "    filter(start_station_name != 'unrecorded' | end_station_name != 'unrecorded') %>% \n",
    "    summarize(number_of_trips = n()) %>% \n",
    "    arrange(desc(number_of_trips)) %>% \n",
    "    slice(1:5) "
   ]
  },
  {
   "cell_type": "markdown",
   "id": "106697d7-070f-4f57-ba4c-0c8d4570235a",
   "metadata": {},
   "source": [
    "Agar lebih mudah dimengerti, saya akan membuat visualisasi data dari data diatas"
   ]
  },
  {
   "cell_type": "code",
   "execution_count": 21,
   "id": "1688df41-b543-40d9-a8c1-e6705c14416d",
   "metadata": {},
   "outputs": [
    {
     "name": "stderr",
     "output_type": "stream",
     "text": [
      "\u001b[1m\u001b[22m`summarise()` has grouped output by 'member_casual'. You can override using the `.groups` argument.\n"
     ]
    }
   ],
   "source": [
    "popular_track <- trip_data %>% \n",
    "    group_by(member_casual, track) %>% \n",
    "    filter(start_station_name != 'unrecorded' | end_station_name != 'unrecorded') %>% \n",
    "    summarize(number_of_trips = n()) %>% \n",
    "    arrange(desc(number_of_trips)) %>% \n",
    "    slice(1:5)"
   ]
  },
  {
   "cell_type": "code",
   "execution_count": 32,
   "id": "a7952a72-0c99-475d-86e7-3e74626e299f",
   "metadata": {},
   "outputs": [],
   "source": [
    "options(repr.plot.width=10, repr.plot.height=8)"
   ]
  },
  {
   "cell_type": "code",
   "execution_count": 33,
   "id": "10dac9ea-645d-4a38-9dc1-bb8198a2f81b",
   "metadata": {
    "tags": []
   },
   "outputs": [
    {
     "data": {
      "image/png": "[encoded data removed]",
      "text/plain": [
       "plot without title"
      ]
     },
     "metadata": {
      "image/png": {
       "height": 480,
       "width": 600
      }
     },
     "output_type": "display_data"
    }
   ],
   "source": [
    "ggplot(data = popular_track, aes(x = number_of_trips, y = track, fill = member_casual)) +\n",
    "geom_col() + \n",
    "facet_wrap(~member_casual, scales = \"free\", ncol = 1) +\n",
    "labs(\n",
    "    title = \"Casual Riders vs Annual Members\",\n",
    "    subtitle = \"Based on popular route on each customer type\",\n",
    "    caption = \"Data collected from June 2022\",\n",
    "    x = \"Number of Trips\",\n",
    "    y = \"Route\",\n",
    "    fill='Customer Type'\n",
    "    )  "
   ]
  }
 ],
 "metadata": {
  "kernelspec": {
   "display_name": "R",
   "language": "R",
   "name": "ir"
  },
  "language_info": {
   "codemirror_mode": "r",
   "file_extension": ".r",
   "mimetype": "text/x-r-source",
   "name": "R",
   "pygments_lexer": "r",
   "version": "4.2.1"
  },
  "toc-autonumbering": true,
  "toc-showcode": false,
  "toc-showmarkdowntxt": false,
  "toc-showtags": false
 },
 "nbformat": 4,
 "nbformat_minor": 5
}
